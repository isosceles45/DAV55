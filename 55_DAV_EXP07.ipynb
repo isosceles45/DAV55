{
  "nbformat": 4,
  "nbformat_minor": 0,
  "metadata": {
    "colab": {
      "provenance": [],
      "authorship_tag": "ABX9TyMaPFi5phof1b/sIDoj4GOy",
      "include_colab_link": true
    },
    "kernelspec": {
      "name": "ir",
      "display_name": "R"
    },
    "language_info": {
      "name": "R"
    }
  },
  "cells": [
    {
      "cell_type": "markdown",
      "metadata": {
        "id": "view-in-github",
        "colab_type": "text"
      },
      "source": [
        "<a href=\"https://colab.research.google.com/github/isosceles45/DAV55/blob/master/55_DAV_EXP07.ipynb\" target=\"_parent\"><img src=\"https://colab.research.google.com/assets/colab-badge.svg\" alt=\"Open In Colab\"/></a>"
      ]
    },
    {
      "cell_type": "markdown",
      "source": [
        "## Text Analytics in Python"
      ],
      "metadata": {
        "id": "iXvFgWfGfe1V"
      }
    },
    {
      "cell_type": "code",
      "execution_count": null,
      "metadata": {
        "colab": {
          "base_uri": "https://localhost:8080/"
        },
        "id": "KCI9AnMwGN6Y",
        "outputId": "58bacc07-9d8d-4fc8-afa8-42665e31da6f"
      },
      "outputs": [
        {
          "output_type": "stream",
          "name": "stderr",
          "text": [
            "[nltk_data] Downloading collection 'popular'\n",
            "[nltk_data]    | \n",
            "[nltk_data]    | Downloading package cmudict to /root/nltk_data...\n",
            "[nltk_data]    |   Unzipping corpora/cmudict.zip.\n",
            "[nltk_data]    | Downloading package gazetteers to /root/nltk_data...\n",
            "[nltk_data]    |   Unzipping corpora/gazetteers.zip.\n",
            "[nltk_data]    | Downloading package genesis to /root/nltk_data...\n",
            "[nltk_data]    |   Unzipping corpora/genesis.zip.\n",
            "[nltk_data]    | Downloading package gutenberg to /root/nltk_data...\n",
            "[nltk_data]    |   Unzipping corpora/gutenberg.zip.\n",
            "[nltk_data]    | Downloading package inaugural to /root/nltk_data...\n",
            "[nltk_data]    |   Unzipping corpora/inaugural.zip.\n",
            "[nltk_data]    | Downloading package movie_reviews to\n",
            "[nltk_data]    |     /root/nltk_data...\n",
            "[nltk_data]    |   Unzipping corpora/movie_reviews.zip.\n",
            "[nltk_data]    | Downloading package names to /root/nltk_data...\n",
            "[nltk_data]    |   Unzipping corpora/names.zip.\n",
            "[nltk_data]    | Downloading package shakespeare to /root/nltk_data...\n",
            "[nltk_data]    |   Unzipping corpora/shakespeare.zip.\n",
            "[nltk_data]    | Downloading package stopwords to /root/nltk_data...\n",
            "[nltk_data]    |   Unzipping corpora/stopwords.zip.\n",
            "[nltk_data]    | Downloading package treebank to /root/nltk_data...\n",
            "[nltk_data]    |   Unzipping corpora/treebank.zip.\n",
            "[nltk_data]    | Downloading package twitter_samples to\n",
            "[nltk_data]    |     /root/nltk_data...\n",
            "[nltk_data]    |   Unzipping corpora/twitter_samples.zip.\n",
            "[nltk_data]    | Downloading package omw to /root/nltk_data...\n",
            "[nltk_data]    | Downloading package omw-1.4 to /root/nltk_data...\n",
            "[nltk_data]    | Downloading package wordnet to /root/nltk_data...\n",
            "[nltk_data]    | Downloading package wordnet2021 to /root/nltk_data...\n",
            "[nltk_data]    | Downloading package wordnet31 to /root/nltk_data...\n",
            "[nltk_data]    | Downloading package wordnet_ic to /root/nltk_data...\n",
            "[nltk_data]    |   Unzipping corpora/wordnet_ic.zip.\n",
            "[nltk_data]    | Downloading package words to /root/nltk_data...\n",
            "[nltk_data]    |   Unzipping corpora/words.zip.\n",
            "[nltk_data]    | Downloading package maxent_ne_chunker to\n",
            "[nltk_data]    |     /root/nltk_data...\n",
            "[nltk_data]    |   Unzipping chunkers/maxent_ne_chunker.zip.\n",
            "[nltk_data]    | Downloading package punkt to /root/nltk_data...\n",
            "[nltk_data]    |   Unzipping tokenizers/punkt.zip.\n",
            "[nltk_data]    | Downloading package snowball_data to\n",
            "[nltk_data]    |     /root/nltk_data...\n",
            "[nltk_data]    | Downloading package averaged_perceptron_tagger to\n",
            "[nltk_data]    |     /root/nltk_data...\n",
            "[nltk_data]    |   Unzipping taggers/averaged_perceptron_tagger.zip.\n",
            "[nltk_data]    | \n",
            "[nltk_data]  Done downloading collection popular\n"
          ]
        },
        {
          "output_type": "execute_result",
          "data": {
            "text/plain": [
              "True"
            ]
          },
          "metadata": {},
          "execution_count": 3
        }
      ],
      "source": [
        "import nltk\n",
        "from nltk.tokenize import word_tokenize, sent_tokenize\n",
        "from nltk.stem import PorterStemmer, WordNetLemmatizer\n",
        "from nltk.corpus import wordnet\n",
        "from nltk.probability import FreqDist\n",
        "from nltk.corpus import stopwords\n",
        "import string\n",
        "\n",
        "nltk.download(\"popular\")"
      ]
    },
    {
      "cell_type": "markdown",
      "source": [
        "## Tokenization"
      ],
      "metadata": {
        "id": "Ku93_k0oJs-P"
      }
    },
    {
      "cell_type": "code",
      "source": [
        "sentence = \"\"\"There is no more to be said, gentlemen.\n",
        "            My name is Blood—Captain Blood, if you please,\n",
        "            of this ship the Cinco Llagas,\n",
        "            taken as a prize of war from 'Don Diego' de Espinosa y Valdez,\n",
        "            who is my prisoner aboard..\"\"\"\n",
        "\n",
        "tokens = nltk.word_tokenize(sentence)"
      ],
      "metadata": {
        "id": "cQDduFiQG0tY"
      },
      "execution_count": null,
      "outputs": []
    },
    {
      "cell_type": "code",
      "source": [
        "tokens[0: 6]"
      ],
      "metadata": {
        "colab": {
          "base_uri": "https://localhost:8080/"
        },
        "id": "pNxYuCPdG7rG",
        "outputId": "b6e1e154-60a7-4ec4-a2f2-bdcbc3d05a1f"
      },
      "execution_count": null,
      "outputs": [
        {
          "output_type": "execute_result",
          "data": {
            "text/plain": [
              "['There', 'is', 'no', 'more', 'to', 'be']"
            ]
          },
          "metadata": {},
          "execution_count": 16
        }
      ]
    },
    {
      "cell_type": "markdown",
      "source": [
        "## Parts of Speech Tagging"
      ],
      "metadata": {
        "id": "SBAvmfzhJxEo"
      }
    },
    {
      "cell_type": "code",
      "source": [
        "tagged = nltk.pos_tag(tokens)"
      ],
      "metadata": {
        "id": "siYXfRfsG_ae"
      },
      "execution_count": null,
      "outputs": []
    },
    {
      "cell_type": "markdown",
      "source": [
        "* EX: Existential there\n",
        "* VBZ: Verb, 3rd person singular present\n",
        "* DT: Determiner\n",
        "* RBR: Adverb, comparative\n",
        "* TO: to (preposition)\n",
        "* VB: Verb, base form"
      ],
      "metadata": {
        "id": "_NH0nn2_J57O"
      }
    },
    {
      "cell_type": "code",
      "source": [
        "tagged[0: 6]"
      ],
      "metadata": {
        "colab": {
          "base_uri": "https://localhost:8080/"
        },
        "id": "fxudG-RoJN03",
        "outputId": "daa4ef65-d45c-47a0-d8af-78240e95e7b3"
      },
      "execution_count": null,
      "outputs": [
        {
          "output_type": "execute_result",
          "data": {
            "text/plain": [
              "[('There', 'EX'),\n",
              " ('is', 'VBZ'),\n",
              " ('no', 'DT'),\n",
              " ('more', 'RBR'),\n",
              " ('to', 'TO'),\n",
              " ('be', 'VB')]"
            ]
          },
          "metadata": {},
          "execution_count": 18
        }
      ]
    },
    {
      "cell_type": "markdown",
      "source": [
        "## Lexicon Normalization (Stemming, Lemmatization)"
      ],
      "metadata": {
        "id": "NNRlS1ZNKsQn"
      }
    },
    {
      "cell_type": "code",
      "source": [
        "stemmer = PorterStemmer()\n",
        "lemmatizer = WordNetLemmatizer()"
      ],
      "metadata": {
        "id": "VEyRdWVfJQWW"
      },
      "execution_count": null,
      "outputs": []
    },
    {
      "cell_type": "code",
      "source": [
        "stemmed_words = [stemmer.stem(word) for word in tokens]\n",
        "lemmatized_words = [lemmatizer.lemmatize(word, wordnet.VERB) for word in tokens]"
      ],
      "metadata": {
        "id": "s0UyX9G9Kqt_"
      },
      "execution_count": null,
      "outputs": []
    },
    {
      "cell_type": "code",
      "source": [
        "print(\"Original Sentence:\", sentence)\n",
        "print(\"Stemmed Sentence:\", ' '.join(stemmed_words))\n",
        "print(\"Lemmatized Sentence:\", ' '.join(lemmatized_words))"
      ],
      "metadata": {
        "colab": {
          "base_uri": "https://localhost:8080/"
        },
        "id": "5zwLCfCcK4pG",
        "outputId": "b73abf20-2622-4e32-c3db-9f871993d65a"
      },
      "execution_count": null,
      "outputs": [
        {
          "output_type": "stream",
          "name": "stdout",
          "text": [
            "Original Sentence: There is no more to be said, gentlemen. \n",
            "            My name is Blood—Captain Blood, if you please,\n",
            "            of this ship the Cinco Llagas,\n",
            "            taken as a prize of war from Don Diego de Espinosa y Valdez, \n",
            "            who is my prisoner aboard..\n",
            "Stemmed Sentence: there is no more to be said , gentlemen . my name is blood—captain blood , if you pleas , of thi ship the cinco llaga , taken as a prize of war from don diego de espinosa y valdez , who is my prison aboard ..\n",
            "Lemmatized Sentence: There be no more to be say , gentlemen . My name be Blood—Captain Blood , if you please , of this ship the Cinco Llagas , take as a prize of war from Don Diego de Espinosa y Valdez , who be my prisoner aboard ..\n"
          ]
        }
      ]
    },
    {
      "cell_type": "markdown",
      "source": [
        "## Frequency Distribution"
      ],
      "metadata": {
        "id": "ApdL_E8bMmhf"
      }
    },
    {
      "cell_type": "code",
      "source": [
        "fdist = FreqDist(stemmed_words)"
      ],
      "metadata": {
        "id": "8e8N1x8jL3dd"
      },
      "execution_count": null,
      "outputs": []
    },
    {
      "cell_type": "code",
      "source": [
        "for word, frequency in fdist.items():\n",
        "    print(f\"{word}: {frequency}\")"
      ],
      "metadata": {
        "colab": {
          "base_uri": "https://localhost:8080/"
        },
        "id": "iCSiQVarM1x2",
        "outputId": "7dc8a792-c725-4aa1-dc07-6958128c855c"
      },
      "execution_count": null,
      "outputs": [
        {
          "output_type": "stream",
          "name": "stdout",
          "text": [
            "there: 1\n",
            "is: 3\n",
            "no: 1\n",
            "more: 1\n",
            "to: 1\n",
            "be: 1\n",
            "said: 1\n",
            ",: 5\n",
            "gentlemen: 1\n",
            ".: 1\n",
            "my: 2\n",
            "name: 1\n",
            "blood—captain: 1\n",
            "blood: 1\n",
            "if: 1\n",
            "you: 1\n",
            "pleas: 1\n",
            "of: 2\n",
            "thi: 1\n",
            "ship: 1\n",
            "the: 1\n",
            "cinco: 1\n",
            "llaga: 1\n",
            "taken: 1\n",
            "as: 1\n",
            "a: 1\n",
            "prize: 1\n",
            "war: 1\n",
            "from: 1\n",
            "don: 1\n",
            "diego: 1\n",
            "de: 1\n",
            "espinosa: 1\n",
            "y: 1\n",
            "valdez: 1\n",
            "who: 1\n",
            "prison: 1\n",
            "aboard: 1\n",
            "..: 1\n"
          ]
        }
      ]
    },
    {
      "cell_type": "markdown",
      "source": [
        "## Remove stopwords & punctuations"
      ],
      "metadata": {
        "id": "F3A1d8kdN9hf"
      }
    },
    {
      "cell_type": "code",
      "source": [
        "string.punctuation"
      ],
      "metadata": {
        "colab": {
          "base_uri": "https://localhost:8080/",
          "height": 35
        },
        "id": "l6C_KRb9QMr_",
        "outputId": "85ac71b4-91f8-445a-9e8e-b2411c6b9234"
      },
      "execution_count": null,
      "outputs": [
        {
          "output_type": "execute_result",
          "data": {
            "text/plain": [
              "'!\"#$%&\\'()*+,-./:;<=>?@[\\\\]^_`{|}~'"
            ],
            "application/vnd.google.colaboratory.intrinsic+json": {
              "type": "string"
            }
          },
          "metadata": {},
          "execution_count": 46
        }
      ]
    },
    {
      "cell_type": "code",
      "source": [
        "tokens_without_punct = [word for word in tokens if word not in string.punctuation]\n",
        "tokens_without_punct"
      ],
      "metadata": {
        "colab": {
          "base_uri": "https://localhost:8080/"
        },
        "id": "YwzCpTXMM5ge",
        "outputId": "2db383a8-e045-4844-fff7-5156bd81c464"
      },
      "execution_count": null,
      "outputs": [
        {
          "output_type": "execute_result",
          "data": {
            "text/plain": [
              "['There',\n",
              " 'is',\n",
              " 'no',\n",
              " 'more',\n",
              " 'to',\n",
              " 'be',\n",
              " 'said',\n",
              " 'gentlemen',\n",
              " 'My',\n",
              " 'name',\n",
              " 'is',\n",
              " 'Blood—Captain',\n",
              " 'Blood',\n",
              " 'if',\n",
              " 'you',\n",
              " 'please',\n",
              " 'of',\n",
              " 'this',\n",
              " 'ship',\n",
              " 'the',\n",
              " 'Cinco',\n",
              " 'Llagas',\n",
              " 'taken',\n",
              " 'as',\n",
              " 'a',\n",
              " 'prize',\n",
              " 'of',\n",
              " 'war',\n",
              " 'from',\n",
              " 'Don',\n",
              " 'Diego',\n",
              " 'de',\n",
              " 'Espinosa',\n",
              " 'y',\n",
              " 'Valdez',\n",
              " 'who',\n",
              " 'is',\n",
              " 'my',\n",
              " 'prisoner',\n",
              " 'aboard',\n",
              " '..']"
            ]
          },
          "metadata": {},
          "execution_count": 49
        }
      ]
    },
    {
      "cell_type": "code",
      "source": [
        "stop_words = set(stopwords.words('english'))"
      ],
      "metadata": {
        "id": "yHAhsLTTR7kp"
      },
      "execution_count": null,
      "outputs": []
    },
    {
      "cell_type": "code",
      "source": [
        "tokens_without_stopwords = [word for word in tokens_without_punct if word.lower() not in stop_words]\n",
        "tokens_without_stopwords"
      ],
      "metadata": {
        "colab": {
          "base_uri": "https://localhost:8080/"
        },
        "id": "5U8gT5GnVwsA",
        "outputId": "51074e03-729f-4400-b35b-1d8a5b8966f0"
      },
      "execution_count": null,
      "outputs": [
        {
          "output_type": "execute_result",
          "data": {
            "text/plain": [
              "['said',\n",
              " 'gentlemen',\n",
              " 'name',\n",
              " 'Blood—Captain',\n",
              " 'Blood',\n",
              " 'please',\n",
              " 'ship',\n",
              " 'Cinco',\n",
              " 'Llagas',\n",
              " 'taken',\n",
              " 'prize',\n",
              " 'war',\n",
              " 'Diego',\n",
              " 'de',\n",
              " 'Espinosa',\n",
              " 'Valdez',\n",
              " 'prisoner',\n",
              " 'aboard',\n",
              " '..']"
            ]
          },
          "metadata": {},
          "execution_count": 57
        }
      ]
    },
    {
      "cell_type": "markdown",
      "source": [
        "## Named Entity Recognization"
      ],
      "metadata": {
        "id": "nXDq8fdkXJbY"
      }
    },
    {
      "cell_type": "code",
      "source": [
        "ner_entities = nltk.ne_chunk(tagged)\n",
        "print(ner_entities)"
      ],
      "metadata": {
        "colab": {
          "base_uri": "https://localhost:8080/"
        },
        "id": "j0994bSsWeup",
        "outputId": "63870017-fc83-495f-8487-fecdf8548777"
      },
      "execution_count": null,
      "outputs": [
        {
          "output_type": "stream",
          "name": "stdout",
          "text": [
            "(S\n",
            "  There/EX\n",
            "  is/VBZ\n",
            "  no/DT\n",
            "  more/RBR\n",
            "  to/TO\n",
            "  be/VB\n",
            "  said/VBD\n",
            "  ,/,\n",
            "  gentlemen/NNS\n",
            "  ./.\n",
            "  My/PRP$\n",
            "  name/NN\n",
            "  is/VBZ\n",
            "  Blood—Captain/NNP\n",
            "  Blood/NNP\n",
            "  ,/,\n",
            "  if/IN\n",
            "  you/PRP\n",
            "  please/VBP\n",
            "  ,/,\n",
            "  of/IN\n",
            "  this/DT\n",
            "  ship/NN\n",
            "  the/DT\n",
            "  (ORGANIZATION Cinco/NNP Llagas/NNP)\n",
            "  ,/,\n",
            "  taken/VBN\n",
            "  as/IN\n",
            "  a/DT\n",
            "  prize/NN\n",
            "  of/IN\n",
            "  war/NN\n",
            "  from/IN\n",
            "  (PERSON Don/NNP Diego/NNP)\n",
            "  de/IN\n",
            "  (PERSON Espinosa/NNP)\n",
            "  y/NNP\n",
            "  (PERSON Valdez/NNP)\n",
            "  ,/,\n",
            "  who/WP\n",
            "  is/VBZ\n",
            "  my/PRP$\n",
            "  prisoner/NN\n",
            "  aboard/IN\n",
            "  ../NN)\n"
          ]
        }
      ]
    },
    {
      "cell_type": "markdown",
      "source": [
        "## Web Scrapping"
      ],
      "metadata": {
        "id": "97jXlx4BgPbK"
      }
    },
    {
      "cell_type": "code",
      "source": [
        "from bs4 import BeautifulSoup\n",
        "import requests"
      ],
      "metadata": {
        "id": "ytX5xJ7JfoFi"
      },
      "execution_count": null,
      "outputs": []
    },
    {
      "cell_type": "code",
      "source": [
        "url = 'https://en.wikipedia.org/wiki/77th_British_Academy_Film_Awards'\n",
        "response = requests.get(url)\n",
        "soup = BeautifulSoup(response.text, 'html.parser')\n",
        "website_text = soup.get_text()\n",
        "website_text = sent_tokenize(website_text)"
      ],
      "metadata": {
        "id": "uA5TlekdfokW"
      },
      "execution_count": null,
      "outputs": []
    },
    {
      "cell_type": "code",
      "source": [
        "print(website_text[0:10])"
      ],
      "metadata": {
        "colab": {
          "base_uri": "https://localhost:8080/"
        },
        "id": "QmjZQ6jLfyUf",
        "outputId": "5942540f-2362-43cc-f827-1b6fc1afbe8d"
      },
      "execution_count": null,
      "outputs": [
        {
          "output_type": "stream",
          "name": "stdout",
          "text": [
            "['\\n\\n\\n\\n77th British Academy Film Awards - Wikipedia\\n\\n\\n\\n\\n\\n\\n\\n\\n\\n\\n\\n\\n\\n\\n\\n\\n\\n\\n\\n\\n\\n\\n\\n\\n\\n\\n\\nJump to content\\n\\n\\n\\n\\n\\n\\n\\nMain menu\\n\\n\\n\\n\\n\\nMain menu\\nmove to sidebar\\nhide\\n\\n\\n\\n\\t\\tNavigation\\n\\t\\n\\n\\nMain pageContentsCurrent eventsRandom articleAbout WikipediaContact usDonate\\n\\n\\n\\n\\n\\n\\t\\tContribute\\n\\t\\n\\n\\nHelpLearn to editCommunity portalRecent changesUpload file\\n\\n\\n\\n\\n\\nLanguages\\n\\nLanguage links are at the top of the page.', \"Search\\n\\n\\n\\n\\n\\n\\n\\n\\n\\n\\n\\nSearch\\n\\n\\n\\n\\n\\n\\n\\n\\n\\n\\n\\n\\n\\n\\n\\n\\n\\n\\n\\n\\n\\n\\n\\n\\n\\n\\n\\n\\n\\nCreate account\\n\\nLog in\\n\\n\\n\\n\\n\\n\\n\\n\\nPersonal tools\\n\\n\\n\\n\\n\\n Create account Log in\\n\\n\\n\\n\\n\\n\\t\\tPages for logged out editors learn more\\n\\n\\n\\nContributionsTalk\\n\\n\\n\\n\\n\\n\\n\\n\\n\\n\\n\\n\\n\\n\\n\\n\\n\\n\\n\\n\\n\\n\\n\\n\\n\\n\\n\\n\\nContents\\nmove to sidebar\\nhide\\n\\n\\n\\n\\n(Top)\\n\\n\\n\\n\\n\\n1Winners and nominees\\n\\n\\n\\nToggle Winners and nominees subsection\\n\\n\\n\\n\\n\\n1.1BAFTA Fellowship\\n\\n\\n\\n\\n\\n\\n\\n1.2Outstanding British Contribution to Cinema\\n\\n\\n\\n\\n\\n\\n\\n1.3Awards\\n\\n\\n\\n\\n\\n\\n\\n\\n\\n2Ceremony information\\n\\n\\n\\n\\n\\n\\n\\n3Statistics\\n\\n\\n\\n\\n\\n\\n\\n4In Memoriam\\n\\n\\n\\n\\n\\n\\n\\n5See also\\n\\n\\n\\n\\n\\n\\n\\n6References\\n\\n\\n\\n\\n\\n\\n\\n7External links\\n\\n\\n\\n\\n\\n\\n\\n\\n\\n\\n\\n\\n\\n\\n\\n\\n\\nToggle the table of contents\\n\\n\\n\\n\\n\\n\\n\\n77th British Academy Film Awards\\n\\n\\n\\n17 languages\\n\\n\\n\\n\\nবাংলাБеларускаяCatalàDeutschEspañolFrançaisItalianoעבריתLatviešuMagyarNederlandsPolskiPortuguêsРусскийSimple EnglishУкраїнська中文\\n\\nEdit links\\n\\n\\n\\n\\n\\n\\n\\n\\n\\n\\n\\nArticleTalk\\n\\n\\n\\n\\n\\nEnglish\\n\\n\\n\\n\\n\\n\\n\\n\\n\\n\\n\\n\\n\\n\\n\\n\\n\\nReadEditView history\\n\\n\\n\\n\\n\\n\\n\\nTools\\n\\n\\n\\n\\n\\nTools\\nmove to sidebar\\nhide\\n\\n\\n\\n\\t\\tActions\\n\\t\\n\\n\\nReadEditView history\\n\\n\\n\\n\\n\\n\\t\\tGeneral\\n\\t\\n\\n\\nWhat links hereRelated changesUpload fileSpecial pagesPermanent linkPage informationCite this pageGet shortened URLDownload QR codeWikidata item\\n\\n\\n\\n\\n\\n\\t\\tPrint/export\\n\\t\\n\\n\\nDownload as PDFPrintable version\\n\\n\\n\\n\\n\\n\\n\\n\\n\\n\\n\\n\\n\\n\\n\\n\\n\\n\\n\\n\\n\\n\\n\\n\\n\\nFrom Wikipedia, the free encyclopedia\\n\\n\\n2024 edition of ceremony\\n\\n\\n77th British Academy Film AwardsDate18\\xa0February\\xa02024\\xa0(2024-02-18)SiteRoyal Festival Hall, London,United KingdomHosted byDavid TennantHighlightsBest FilmOppenheimerBest British FilmThe Zone of InterestBest ActorCillian MurphyOppenheimerBest ActressEmma StonePoor ThingsMost awardsOppenheimer (7)Most nominationsOppenheimer (13)\\n←\\xa076th\\nBAFTA Awards\\n78th\\xa0→\\n\\nThe 77th British Academy Film Arts Awards, more commonly known as the BAFTAs, were held on 18 February 2024, honouring the best national and foreign films of 2023, at the Royal Festival Hall within London's Southbank Centre.\", 'Presented by the British Academy of Film and Television Arts, accolades were handed out for the best feature-length film and documentaries of any nationality that were screened at British cinemas in 2023.', '[1][2][3][4][5][6]\\nThe ceremony was hosted by David Tennant for the first time; \"I am delighted to have been asked to host the EE BAFTA Film Awards and help celebrate the very best of this year\\'s films and the many brilliant people who bring them to life,\" said Tennant.', '[7][8][9][10][11] The broadcast streamed live on BBC One and iPlayer in the UK from 19:00–21:00 GMT, and on BritBox International in Canada, Denmark, Finland, Norway, South Africa, Sweden and the US.', '[12]\\nThe BAFTA longlists were unveiled on 5 January 2024.', \"[13] The nominations were announced via livestream by former Rising Star Award nominees Naomi Ackie and Kingsley Ben-Adir, from the arts charity's HQ at 195 Piccadilly, London, on 18 January 2024; the livestream was also available to view on BAFTA's Twitter and YouTube pages.\", '[3][13][14][15][16][17] The EE Rising Star nominees, which is the only category voted for by the British public, were unveiled on 10 January 2024.', '[13][18][19] The winners were announced on 18 February 2024.', '[3]\\nThe epic biographical thriller Oppenheimer received the most nominations with thirteen and the most wins with seven, including Best Film, Best Director (Christopher Nolan) and Best Actor (Cillian Murphy); British films Poor Things and The Zone of Interest also won multiple awards.']\n"
          ]
        }
      ]
    },
    {
      "cell_type": "markdown",
      "source": [
        "## Text Analytics in R"
      ],
      "metadata": {
        "id": "jEvDTNergdU-"
      }
    },
    {
      "cell_type": "code",
      "source": [
        "install.packages(c(\"tokenizers\", \"stringi\", \"openNLP\"))"
      ],
      "metadata": {
        "colab": {
          "base_uri": "https://localhost:8080/"
        },
        "id": "418DQbpqiOWD",
        "outputId": "4bf6ba61-0e94-4676-f7fe-73affcb8c641"
      },
      "execution_count": 3,
      "outputs": [
        {
          "output_type": "stream",
          "name": "stderr",
          "text": [
            "Installing packages into ‘/usr/local/lib/R/site-library’\n",
            "(as ‘lib’ is unspecified)\n",
            "\n",
            "also installing the dependencies ‘Rcpp’, ‘openNLPdata’, ‘rJava’\n",
            "\n",
            "\n",
            "Warning message in install.packages(c(\"tokenizers\", \"stringi\", \"openNLP\")):\n",
            "“installation of package ‘rJava’ had non-zero exit status”\n",
            "Warning message in install.packages(c(\"tokenizers\", \"stringi\", \"openNLP\")):\n",
            "“installation of package ‘openNLPdata’ had non-zero exit status”\n",
            "Warning message in install.packages(c(\"tokenizers\", \"stringi\", \"openNLP\")):\n",
            "“installation of package ‘openNLP’ had non-zero exit status”\n"
          ]
        }
      ]
    },
    {
      "cell_type": "code",
      "source": [
        "install.packages(c(\"tm\", \"stringr\", \"SnowballC\", \"udpipe\", \"rvest\", \"spacyr\"))"
      ],
      "metadata": {
        "colab": {
          "base_uri": "https://localhost:8080/"
        },
        "id": "BYQFi7I_kL8N",
        "outputId": "674006cc-edac-4415-cb81-967dae84e654"
      },
      "execution_count": 8,
      "outputs": [
        {
          "output_type": "stream",
          "name": "stderr",
          "text": [
            "Installing packages into ‘/usr/local/lib/R/site-library’\n",
            "(as ‘lib’ is unspecified)\n",
            "\n",
            "also installing the dependencies ‘RcppTOML’, ‘here’, ‘png’, ‘slam’, ‘BH’, ‘reticulate’\n",
            "\n",
            "\n"
          ]
        }
      ]
    },
    {
      "cell_type": "code",
      "source": [
        "library(tokenizers)\n",
        "library(tm)\n",
        "library(stringr)\n",
        "library(SnowballC)\n",
        "library(udpipe)\n",
        "library(rvest)\n",
        "library(spacyr)"
      ],
      "metadata": {
        "colab": {
          "base_uri": "https://localhost:8080/"
        },
        "id": "m2dAPx8_jyyW",
        "outputId": "a3b2fa90-c2c2-46a5-afb5-b074bc55cb8d"
      },
      "execution_count": 9,
      "outputs": [
        {
          "output_type": "stream",
          "name": "stderr",
          "text": [
            "Loading required package: NLP\n",
            "\n"
          ]
        }
      ]
    },
    {
      "cell_type": "code",
      "source": [
        "sentence <- \"There is no more to be said, gentlemen. My name is Blood—Captain Blood, if you please, of this ship the Cinco Llagas, taken as a prize of war from 'Don Diego' de Espinosa y Valdez, who is my prisoner aboard.\""
      ],
      "metadata": {
        "id": "oSqY-RWtiOqe"
      },
      "execution_count": 4,
      "outputs": []
    },
    {
      "cell_type": "markdown",
      "source": [
        "## Tokenization"
      ],
      "metadata": {
        "id": "7Td1jtQDldRs"
      }
    },
    {
      "cell_type": "code",
      "source": [
        "tokens <- unlist(tokenize_words(sentence))\n",
        "tokens"
      ],
      "metadata": {
        "colab": {
          "base_uri": "https://localhost:8080/",
          "height": 52
        },
        "id": "QMmDzuWwjxaN",
        "outputId": "7f4d0162-0ef7-411a-ab08-30ec52ac178c"
      },
      "execution_count": 10,
      "outputs": [
        {
          "output_type": "display_data",
          "data": {
            "text/html": [
              "<style>\n",
              ".list-inline {list-style: none; margin:0; padding: 0}\n",
              ".list-inline>li {display: inline-block}\n",
              ".list-inline>li:not(:last-child)::after {content: \"\\00b7\"; padding: 0 .5ex}\n",
              "</style>\n",
              "<ol class=list-inline><li>'there'</li><li>'is'</li><li>'no'</li><li>'more'</li><li>'to'</li><li>'be'</li><li>'said'</li><li>'gentlemen'</li><li>'my'</li><li>'name'</li><li>'is'</li><li>'blood'</li><li>'captain'</li><li>'blood'</li><li>'if'</li><li>'you'</li><li>'please'</li><li>'of'</li><li>'this'</li><li>'ship'</li><li>'the'</li><li>'cinco'</li><li>'llagas'</li><li>'taken'</li><li>'as'</li><li>'a'</li><li>'prize'</li><li>'of'</li><li>'war'</li><li>'from'</li><li>'don'</li><li>'diego'</li><li>'de'</li><li>'espinosa'</li><li>'y'</li><li>'valdez'</li><li>'who'</li><li>'is'</li><li>'my'</li><li>'prisoner'</li><li>'aboard'</li></ol>\n"
            ],
            "text/markdown": "1. 'there'\n2. 'is'\n3. 'no'\n4. 'more'\n5. 'to'\n6. 'be'\n7. 'said'\n8. 'gentlemen'\n9. 'my'\n10. 'name'\n11. 'is'\n12. 'blood'\n13. 'captain'\n14. 'blood'\n15. 'if'\n16. 'you'\n17. 'please'\n18. 'of'\n19. 'this'\n20. 'ship'\n21. 'the'\n22. 'cinco'\n23. 'llagas'\n24. 'taken'\n25. 'as'\n26. 'a'\n27. 'prize'\n28. 'of'\n29. 'war'\n30. 'from'\n31. 'don'\n32. 'diego'\n33. 'de'\n34. 'espinosa'\n35. 'y'\n36. 'valdez'\n37. 'who'\n38. 'is'\n39. 'my'\n40. 'prisoner'\n41. 'aboard'\n\n\n",
            "text/latex": "\\begin{enumerate*}\n\\item 'there'\n\\item 'is'\n\\item 'no'\n\\item 'more'\n\\item 'to'\n\\item 'be'\n\\item 'said'\n\\item 'gentlemen'\n\\item 'my'\n\\item 'name'\n\\item 'is'\n\\item 'blood'\n\\item 'captain'\n\\item 'blood'\n\\item 'if'\n\\item 'you'\n\\item 'please'\n\\item 'of'\n\\item 'this'\n\\item 'ship'\n\\item 'the'\n\\item 'cinco'\n\\item 'llagas'\n\\item 'taken'\n\\item 'as'\n\\item 'a'\n\\item 'prize'\n\\item 'of'\n\\item 'war'\n\\item 'from'\n\\item 'don'\n\\item 'diego'\n\\item 'de'\n\\item 'espinosa'\n\\item 'y'\n\\item 'valdez'\n\\item 'who'\n\\item 'is'\n\\item 'my'\n\\item 'prisoner'\n\\item 'aboard'\n\\end{enumerate*}\n",
            "text/plain": [
              " [1] \"there\"     \"is\"        \"no\"        \"more\"      \"to\"        \"be\"       \n",
              " [7] \"said\"      \"gentlemen\" \"my\"        \"name\"      \"is\"        \"blood\"    \n",
              "[13] \"captain\"   \"blood\"     \"if\"        \"you\"       \"please\"    \"of\"       \n",
              "[19] \"this\"      \"ship\"      \"the\"       \"cinco\"     \"llagas\"    \"taken\"    \n",
              "[25] \"as\"        \"a\"         \"prize\"     \"of\"        \"war\"       \"from\"     \n",
              "[31] \"don\"       \"diego\"     \"de\"        \"espinosa\"  \"y\"         \"valdez\"   \n",
              "[37] \"who\"       \"is\"        \"my\"        \"prisoner\"  \"aboard\"   "
            ]
          },
          "metadata": {}
        }
      ]
    },
    {
      "cell_type": "markdown",
      "source": [
        "## Parts of speech tagging (POS tagging)\n"
      ],
      "metadata": {
        "id": "LkSw8JFlljWB"
      }
    },
    {
      "cell_type": "code",
      "source": [
        "ud_model <- udpipe_download_model(language = \"english\")\n",
        "ud_model <- udpipe_load_model(ud_model$file_model)\n",
        "\n",
        "parsed <- udpipe_annotate(ud_model, x = sentence, trace = TRUE)\n",
        "pos_tags <- as.data.frame(parsed)$upos\n",
        "\n",
        "print(pos_tags)"
      ],
      "metadata": {
        "colab": {
          "base_uri": "https://localhost:8080/"
        },
        "id": "2oL1_3m1lg5T",
        "outputId": "810d0ca9-2cfa-4bec-da7c-96d3c7f96dd5"
      },
      "execution_count": 14,
      "outputs": [
        {
          "output_type": "stream",
          "name": "stderr",
          "text": [
            "Downloading udpipe model from https://raw.githubusercontent.com/jwijffels/udpipe.models.ud.2.5/master/inst/udpipe-ud-2.5-191206/english-ewt-ud-2.5-191206.udpipe to /content/english-ewt-ud-2.5-191206.udpipe\n",
            "\n",
            " - This model has been trained on version 2.5 of data from https://universaldependencies.org\n",
            "\n",
            " - The model is distributed under the CC-BY-SA-NC license: https://creativecommons.org/licenses/by-nc-sa/4.0\n",
            "\n",
            " - Visit https://github.com/jwijffels/udpipe.models.ud.2.5 for model license details.\n",
            "\n",
            " - For a list of all models and their licenses (most models you can download with this package have either a CC-BY-SA or a CC-BY-SA-NC license) read the documentation at ?udpipe_download_model. For building your own models: visit the documentation by typing vignette('udpipe-train', package = 'udpipe')\n",
            "\n",
            "Downloading finished, model stored at '/content/english-ewt-ud-2.5-191206.udpipe'\n",
            "\n"
          ]
        },
        {
          "output_type": "stream",
          "name": "stdout",
          "text": [
            "2024-02-20 17:40:57.02836 Annotating text fragment 1/1\n",
            " [1] \"PRON\"  \"VERB\"  \"ADV\"   \"ADJ\"   \"PART\"  \"AUX\"   \"VERB\"  \"PUNCT\" \"NOUN\" \n",
            "[10] \"PUNCT\" \"PRON\"  \"NOUN\"  \"AUX\"   \"PROPN\" \"PROPN\" \"PROPN\" \"PUNCT\" \"SCONJ\"\n",
            "[19] \"PRON\"  \"INTJ\"  \"PUNCT\" \"ADP\"   \"DET\"   \"NOUN\"  \"DET\"   \"PROPN\" \"PROPN\"\n",
            "[28] \"PUNCT\" \"VERB\"  \"ADP\"   \"DET\"   \"NOUN\"  \"ADP\"   \"NOUN\"  \"ADP\"   \"PUNCT\"\n",
            "[37] \"PROPN\" \"PROPN\" \"PART\"  \"PROPN\" \"PROPN\" \"PROPN\" \"PROPN\" \"PUNCT\" \"PRON\" \n",
            "[46] \"AUX\"   \"PRON\"  \"NOUN\"  \"ADV\"   \"PUNCT\"\n"
          ]
        }
      ]
    },
    {
      "cell_type": "markdown",
      "source": [
        "## Stemming\n"
      ],
      "metadata": {
        "id": "nVz2kiE_nI4w"
      }
    },
    {
      "cell_type": "code",
      "source": [
        "stemmed_words <- wordStem(tokens)\n",
        "stemmed_words"
      ],
      "metadata": {
        "colab": {
          "base_uri": "https://localhost:8080/",
          "height": 52
        },
        "id": "jBMMx06rnMoF",
        "outputId": "22e89a9c-ea1a-4ab0-edc4-2d282b4fcfad"
      },
      "execution_count": 16,
      "outputs": [
        {
          "output_type": "display_data",
          "data": {
            "text/html": [
              "<style>\n",
              ".list-inline {list-style: none; margin:0; padding: 0}\n",
              ".list-inline>li {display: inline-block}\n",
              ".list-inline>li:not(:last-child)::after {content: \"\\00b7\"; padding: 0 .5ex}\n",
              "</style>\n",
              "<ol class=list-inline><li>'there'</li><li>'i'</li><li>'no'</li><li>'more'</li><li>'to'</li><li>'be'</li><li>'said'</li><li>'gentlemen'</li><li>'my'</li><li>'name'</li><li>'i'</li><li>'blood'</li><li>'captain'</li><li>'blood'</li><li>'if'</li><li>'you'</li><li>'pleas'</li><li>'of'</li><li>'thi'</li><li>'ship'</li><li>'the'</li><li>'cinco'</li><li>'llaga'</li><li>'taken'</li><li>'a'</li><li>'a'</li><li>'prize'</li><li>'of'</li><li>'war'</li><li>'from'</li><li>'don'</li><li>'diego'</li><li>'de'</li><li>'espinosa'</li><li>'y'</li><li>'valdez'</li><li>'who'</li><li>'i'</li><li>'my'</li><li>'prison'</li><li>'aboard'</li></ol>\n"
            ],
            "text/markdown": "1. 'there'\n2. 'i'\n3. 'no'\n4. 'more'\n5. 'to'\n6. 'be'\n7. 'said'\n8. 'gentlemen'\n9. 'my'\n10. 'name'\n11. 'i'\n12. 'blood'\n13. 'captain'\n14. 'blood'\n15. 'if'\n16. 'you'\n17. 'pleas'\n18. 'of'\n19. 'thi'\n20. 'ship'\n21. 'the'\n22. 'cinco'\n23. 'llaga'\n24. 'taken'\n25. 'a'\n26. 'a'\n27. 'prize'\n28. 'of'\n29. 'war'\n30. 'from'\n31. 'don'\n32. 'diego'\n33. 'de'\n34. 'espinosa'\n35. 'y'\n36. 'valdez'\n37. 'who'\n38. 'i'\n39. 'my'\n40. 'prison'\n41. 'aboard'\n\n\n",
            "text/latex": "\\begin{enumerate*}\n\\item 'there'\n\\item 'i'\n\\item 'no'\n\\item 'more'\n\\item 'to'\n\\item 'be'\n\\item 'said'\n\\item 'gentlemen'\n\\item 'my'\n\\item 'name'\n\\item 'i'\n\\item 'blood'\n\\item 'captain'\n\\item 'blood'\n\\item 'if'\n\\item 'you'\n\\item 'pleas'\n\\item 'of'\n\\item 'thi'\n\\item 'ship'\n\\item 'the'\n\\item 'cinco'\n\\item 'llaga'\n\\item 'taken'\n\\item 'a'\n\\item 'a'\n\\item 'prize'\n\\item 'of'\n\\item 'war'\n\\item 'from'\n\\item 'don'\n\\item 'diego'\n\\item 'de'\n\\item 'espinosa'\n\\item 'y'\n\\item 'valdez'\n\\item 'who'\n\\item 'i'\n\\item 'my'\n\\item 'prison'\n\\item 'aboard'\n\\end{enumerate*}\n",
            "text/plain": [
              " [1] \"there\"     \"i\"         \"no\"        \"more\"      \"to\"        \"be\"       \n",
              " [7] \"said\"      \"gentlemen\" \"my\"        \"name\"      \"i\"         \"blood\"    \n",
              "[13] \"captain\"   \"blood\"     \"if\"        \"you\"       \"pleas\"     \"of\"       \n",
              "[19] \"thi\"       \"ship\"      \"the\"       \"cinco\"     \"llaga\"     \"taken\"    \n",
              "[25] \"a\"         \"a\"         \"prize\"     \"of\"        \"war\"       \"from\"     \n",
              "[31] \"don\"       \"diego\"     \"de\"        \"espinosa\"  \"y\"         \"valdez\"   \n",
              "[37] \"who\"       \"i\"         \"my\"        \"prison\"    \"aboard\"   "
            ]
          },
          "metadata": {}
        }
      ]
    },
    {
      "cell_type": "markdown",
      "source": [
        "## Frequency distribution"
      ],
      "metadata": {
        "id": "VV1mp7nDpJrC"
      }
    },
    {
      "cell_type": "code",
      "source": [
        "fdist <- table(stemmed_words)\n",
        "fdist"
      ],
      "metadata": {
        "colab": {
          "base_uri": "https://localhost:8080/",
          "height": 208
        },
        "id": "P72dtDSpoWap",
        "outputId": "0e929026-ce46-45ad-bec9-4236dab35712"
      },
      "execution_count": 17,
      "outputs": [
        {
          "output_type": "display_data",
          "data": {
            "text/plain": [
              "stemmed_words\n",
              "        a    aboard        be     blood   captain     cinco        de     diego \n",
              "        2         1         1         2         1         1         1         1 \n",
              "      don  espinosa      from gentlemen         i        if     llaga      more \n",
              "        1         1         1         1         3         1         1         1 \n",
              "       my      name        no        of     pleas    prison     prize      said \n",
              "        2         1         1         2         1         1         1         1 \n",
              "     ship     taken       the     there       thi        to    valdez       war \n",
              "        1         1         1         1         1         1         1         1 \n",
              "      who         y       you \n",
              "        1         1         1 "
            ]
          },
          "metadata": {}
        }
      ]
    },
    {
      "cell_type": "markdown",
      "source": [
        "## Remove punctuation"
      ],
      "metadata": {
        "id": "YWW_VVGNpRSa"
      }
    },
    {
      "cell_type": "code",
      "source": [
        "tokens_without_punct <- tokens[!str_detect(tokens, \"[[:punct:]]\")]\n",
        "tokens_without_punct"
      ],
      "metadata": {
        "colab": {
          "base_uri": "https://localhost:8080/",
          "height": 52
        },
        "id": "FzgQNBp-pM09",
        "outputId": "689cb2a6-e5a5-45f4-f18f-902d7f0e904a"
      },
      "execution_count": 18,
      "outputs": [
        {
          "output_type": "display_data",
          "data": {
            "text/html": [
              "<style>\n",
              ".list-inline {list-style: none; margin:0; padding: 0}\n",
              ".list-inline>li {display: inline-block}\n",
              ".list-inline>li:not(:last-child)::after {content: \"\\00b7\"; padding: 0 .5ex}\n",
              "</style>\n",
              "<ol class=list-inline><li>'there'</li><li>'is'</li><li>'no'</li><li>'more'</li><li>'to'</li><li>'be'</li><li>'said'</li><li>'gentlemen'</li><li>'my'</li><li>'name'</li><li>'is'</li><li>'blood'</li><li>'captain'</li><li>'blood'</li><li>'if'</li><li>'you'</li><li>'please'</li><li>'of'</li><li>'this'</li><li>'ship'</li><li>'the'</li><li>'cinco'</li><li>'llagas'</li><li>'taken'</li><li>'as'</li><li>'a'</li><li>'prize'</li><li>'of'</li><li>'war'</li><li>'from'</li><li>'don'</li><li>'diego'</li><li>'de'</li><li>'espinosa'</li><li>'y'</li><li>'valdez'</li><li>'who'</li><li>'is'</li><li>'my'</li><li>'prisoner'</li><li>'aboard'</li></ol>\n"
            ],
            "text/markdown": "1. 'there'\n2. 'is'\n3. 'no'\n4. 'more'\n5. 'to'\n6. 'be'\n7. 'said'\n8. 'gentlemen'\n9. 'my'\n10. 'name'\n11. 'is'\n12. 'blood'\n13. 'captain'\n14. 'blood'\n15. 'if'\n16. 'you'\n17. 'please'\n18. 'of'\n19. 'this'\n20. 'ship'\n21. 'the'\n22. 'cinco'\n23. 'llagas'\n24. 'taken'\n25. 'as'\n26. 'a'\n27. 'prize'\n28. 'of'\n29. 'war'\n30. 'from'\n31. 'don'\n32. 'diego'\n33. 'de'\n34. 'espinosa'\n35. 'y'\n36. 'valdez'\n37. 'who'\n38. 'is'\n39. 'my'\n40. 'prisoner'\n41. 'aboard'\n\n\n",
            "text/latex": "\\begin{enumerate*}\n\\item 'there'\n\\item 'is'\n\\item 'no'\n\\item 'more'\n\\item 'to'\n\\item 'be'\n\\item 'said'\n\\item 'gentlemen'\n\\item 'my'\n\\item 'name'\n\\item 'is'\n\\item 'blood'\n\\item 'captain'\n\\item 'blood'\n\\item 'if'\n\\item 'you'\n\\item 'please'\n\\item 'of'\n\\item 'this'\n\\item 'ship'\n\\item 'the'\n\\item 'cinco'\n\\item 'llagas'\n\\item 'taken'\n\\item 'as'\n\\item 'a'\n\\item 'prize'\n\\item 'of'\n\\item 'war'\n\\item 'from'\n\\item 'don'\n\\item 'diego'\n\\item 'de'\n\\item 'espinosa'\n\\item 'y'\n\\item 'valdez'\n\\item 'who'\n\\item 'is'\n\\item 'my'\n\\item 'prisoner'\n\\item 'aboard'\n\\end{enumerate*}\n",
            "text/plain": [
              " [1] \"there\"     \"is\"        \"no\"        \"more\"      \"to\"        \"be\"       \n",
              " [7] \"said\"      \"gentlemen\" \"my\"        \"name\"      \"is\"        \"blood\"    \n",
              "[13] \"captain\"   \"blood\"     \"if\"        \"you\"       \"please\"    \"of\"       \n",
              "[19] \"this\"      \"ship\"      \"the\"       \"cinco\"     \"llagas\"    \"taken\"    \n",
              "[25] \"as\"        \"a\"         \"prize\"     \"of\"        \"war\"       \"from\"     \n",
              "[31] \"don\"       \"diego\"     \"de\"        \"espinosa\"  \"y\"         \"valdez\"   \n",
              "[37] \"who\"       \"is\"        \"my\"        \"prisoner\"  \"aboard\"   "
            ]
          },
          "metadata": {}
        }
      ]
    },
    {
      "cell_type": "markdown",
      "source": [
        "## Web Scrapping"
      ],
      "metadata": {
        "id": "KPboPzQbpmZ7"
      }
    },
    {
      "cell_type": "code",
      "source": [
        "url <- \"https://www.nytimes.com/international/\"\n",
        "webpage <- read_html(url)\n",
        "text_from_website <- html_text(webpage)\n",
        "print(substr(text_from_website,1,1000))"
      ],
      "metadata": {
        "colab": {
          "base_uri": "https://localhost:8080/"
        },
        "id": "CJWi5oJ7pWTP",
        "outputId": "209d14b1-bd7f-4a62-ff43-8084d0db8803"
      },
      "execution_count": 20,
      "outputs": [
        {
          "output_type": "stream",
          "name": "stdout",
          "text": [
            "[1] \"The New York Times International - Breaking News, US News, World News, Videos{\\\"@context\\\":\\\"https://schema.org\\\",\\\"@type\\\":\\\"WebPage\\\",\\\"image\\\":[{\\\"@context\\\":\\\"https://schema.org\\\",\\\"@type\\\":\\\"ImageObject\\\",\\\"url\\\":\\\"https://static01.nyt.com/vi-assets/images/share/1200x675_nameplate.png\\\",\\\"height\\\":675,\\\"width\\\":1200,\\\"contentUrl\\\":\\\"https://static01.nyt.com/vi-assets/images/share/1200x675_nameplate.png\\\",\\\"creditText\\\":\\\"The New York Times\\\"},{\\\"@context\\\":\\\"https://schema.org\\\",\\\"@type\\\":\\\"ImageObject\\\",\\\"url\\\":\\\"https://static01.nyt.com/vi-assets/images/share/1200x900_t.png\\\",\\\"height\\\":900,\\\"width\\\":1200,\\\"contentUrl\\\":\\\"https://static01.nyt.com/vi-assets/images/share/1200x900_t.png\\\",\\\"creditText\\\":\\\"The New York Times\\\"},{\\\"@context\\\":\\\"https://schema.org\\\",\\\"@type\\\":\\\"ImageObject\\\",\\\"url\\\":\\\"https://static01.nyt.com/vi-assets/images/share/1200x1200_t.png\\\",\\\"height\\\":1200,\\\"width\\\":1200,\\\"contentUrl\\\":\\\"https://static01.nyt.com/vi-assets/images/share/1200x1200_t.png\\\",\\\"creditText\\\":\\\"The New York Times\\\"}],\\\"name\\\":\\\"The New York Times\\\",\\\"mainEntity\\\":{\\\"@cont\"\n"
          ]
        }
      ]
    }
  ]
}